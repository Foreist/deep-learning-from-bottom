{
 "cells": [
  {
   "cell_type": "code",
   "execution_count": 193,
   "metadata": {},
   "outputs": [],
   "source": [
    "def numerical_diff(f, x):\n",
    "    h = 10e-50\n",
    "    return (f * (x + h) - f * (x)) / h"
   ]
  },
  {
   "cell_type": "code",
   "execution_count": 194,
   "metadata": {},
   "outputs": [
    {
     "data": {
      "text/plain": [
       "0.0"
      ]
     },
     "execution_count": 194,
     "metadata": {},
     "output_type": "execute_result"
    }
   ],
   "source": [
    "numerical_diff(2, 1)"
   ]
  },
  {
   "cell_type": "code",
   "execution_count": 206,
   "metadata": {},
   "outputs": [],
   "source": [
    "# 이렇게 하면 컴퓨터는 반올림을 어느 시점에서 하는데 그러면 그냥 값이 0임\n",
    "# 그러면 위 값 계산해도 0이 나옴\n",
    "# 그러면 10 ** -4 정도를 하면 결과값이 잘 나온다는데 그렇게 되면 오차범위가 커짐\n",
    "#그래서 그 오차 범위를 줄여주기 위해서 아래와 같이 식을 적음"
   ]
  },
  {
   "cell_type": "code",
   "execution_count": 207,
   "metadata": {},
   "outputs": [
    {
     "data": {
      "text/plain": [
       "2.0000000000131024"
      ]
     },
     "execution_count": 207,
     "metadata": {},
     "output_type": "execute_result"
    }
   ],
   "source": [
    "def numerical_diff(f, x): # 이렇게 하면 오차값이 있어서 줄여주기 위해 아래처럼 씀\n",
    "    h = 1e-5\n",
    "    return (f * (x + h) - f * (x)) / h\n",
    "numerical_diff(2, 1)"
   ]
  },
  {
   "cell_type": "code",
   "execution_count": 229,
   "metadata": {},
   "outputs": [],
   "source": [
    "def numerical_diff(f, x):\n",
    "    h = 1e-5\n",
    "    return ((f * (x + h)) - (f * (x - h))) / (2 * h)"
   ]
  },
  {
   "cell_type": "code",
   "execution_count": 230,
   "metadata": {},
   "outputs": [
    {
     "data": {
      "text/plain": [
       "2.000000000002"
      ]
     },
     "execution_count": 230,
     "metadata": {},
     "output_type": "execute_result"
    }
   ],
   "source": [
    "numerical_diff(2, 1)"
   ]
  },
  {
   "cell_type": "code",
   "execution_count": 196,
   "metadata": {},
   "outputs": [
    {
     "data": {
      "text/plain": [
       "1.9999999999997797"
      ]
     },
     "execution_count": 196,
     "metadata": {},
     "output_type": "execute_result"
    }
   ],
   "source": [
    "## y = 0.01x**2 + 0.1x를 수치미분해보자"
   ]
  },
  {
   "cell_type": "code",
   "execution_count": 208,
   "metadata": {},
   "outputs": [],
   "source": [
    "def function_1(x):\n",
    "    return 0.01 * x ** 2 + 0.1 * x"
   ]
  },
  {
   "cell_type": "code",
   "execution_count": 210,
   "metadata": {},
   "outputs": [
    {
     "data": {
      "image/png": "[encoded data removed]",
      "text/plain": [
       "<Figure size 432x288 with 1 Axes>"
      ]
     },
     "metadata": {
      "needs_background": "light"
     },
     "output_type": "display_data"
    }
   ],
   "source": [
    "import numpy as np\n",
    "import matplotlib.pylab as plt\n",
    "%matplotlib inline\n",
    "x = np.arange(0, 20, 0.1)\n",
    "y = function_1(x)\n",
    "plt.xlabel('x')\n",
    "plt.ylabel('f(x)')\n",
    "plt.plot(x, y)\n",
    "plt.show()"
   ]
  },
  {
   "cell_type": "code",
   "execution_count": 251,
   "metadata": {},
   "outputs": [
    {
     "name": "stdout",
     "output_type": "stream",
     "text": [
      "0.7500200000999999 0.7499800001000001\n",
      "2.0000300000999998 1.9999700001\n"
     ]
    },
    {
     "data": {
      "text/plain": [
       "(0.1999999999990898, 0.2999999999986347)"
      ]
     },
     "execution_count": 251,
     "metadata": {},
     "output_type": "execute_result"
    }
   ],
   "source": [
    "def numerical_diff(f, x):\n",
    "    h = 1e-4 # 0.0001\n",
    "    print(f(x+h), f(x-h))\n",
    "    return (f(x+h) - f(x-h)) / (2*h)\n",
    "\n",
    "\n",
    "def function_1(x):\n",
    "    return 0.01*x**2 + 0.1*x \n",
    "\n",
    "numerical_diff(function_1, 5), numerical_diff(function_1, 10)"
   ]
  },
  {
   "cell_type": "code",
   "execution_count": 255,
   "metadata": {},
   "outputs": [
    {
     "data": {
      "text/plain": [
       "0.1999999999990898"
      ]
     },
     "execution_count": 255,
     "metadata": {},
     "output_type": "execute_result"
    }
   ],
   "source": [
    "(function_1(5.0001) - function_1(4.9999)) / 0.0002"
   ]
  },
  {
   "cell_type": "code",
   "execution_count": 269,
   "metadata": {},
   "outputs": [],
   "source": [
    "## 편미분\n",
    "def function_2(x):\n",
    "    return np.sum(x ** 2)"
   ]
  },
  {
   "cell_type": "code",
   "execution_count": 258,
   "metadata": {},
   "outputs": [
    {
     "name": "stdout",
     "output_type": "stream",
     "text": [
      "25.00060001 24.99940001\n"
     ]
    },
    {
     "data": {
      "text/plain": [
       "6.00000000000378"
      ]
     },
     "execution_count": 258,
     "metadata": {},
     "output_type": "execute_result"
    }
   ],
   "source": [
    "# x0 = 3 x1 = 4일 때 x0에 대한 편미분을 구하라\n",
    "def function_tmp1(x0):\n",
    "    return x0 * x0 + 4.0 ** 2.0\n",
    "\n",
    "numerical_diff(function_tmp1, 3.0)"
   ]
  },
  {
   "cell_type": "code",
   "execution_count": 266,
   "metadata": {},
   "outputs": [
    {
     "name": "stdout",
     "output_type": "stream",
     "text": [
      "25.00080001 24.99920001\n"
     ]
    },
    {
     "data": {
      "text/plain": [
       "7.999999999999119"
      ]
     },
     "execution_count": 266,
     "metadata": {},
     "output_type": "execute_result"
    }
   ],
   "source": [
    "# x0 = 3 x1 = 4일 때 x0에 대한 편미분을 구하라\n",
    "def function_tmp2(x1):\n",
    "    return 3.0 ** 2.0 + x1 * x1\n",
    "\n",
    "numerical_diff(function_tmp2, 4.0)"
   ]
  },
  {
   "cell_type": "code",
   "execution_count": 281,
   "metadata": {},
   "outputs": [],
   "source": [
    "def numerical_gradient(f, x):\n",
    "    h  = 1e-4\n",
    "    grad = np.zeros_like(x)\n",
    "    \n",
    "    for idx in range(x.size):\n",
    "        tmp_val = x[idx]\n",
    "        x[idx] = tmp_val + h # h(x + h)\n",
    "        fxh1 = f(x)\n",
    "        \n",
    "        x[idx] = tmp_val - h # h(x-h)\n",
    "        fxh2 = f(x)\n",
    "        \n",
    "        grad[idx] = (fxh1 - fxh2) / (2 * h)\n",
    "        x[idx] = tmp_val \n",
    "    return grad"
   ]
  },
  {
   "cell_type": "code",
   "execution_count": 282,
   "metadata": {},
   "outputs": [
    {
     "data": {
      "text/plain": [
       "array([6., 8.])"
      ]
     },
     "execution_count": 282,
     "metadata": {},
     "output_type": "execute_result"
    }
   ],
   "source": [
    "numerical_gradient(function_2, np.array([3.0, 4.0]))"
   ]
  },
  {
   "cell_type": "code",
   "execution_count": 300,
   "metadata": {},
   "outputs": [],
   "source": [
    "def gradient_descent(f, x, lr = 0.01, step_num = 100):\n",
    "    # f = 최적화하려는 함수\n",
    "    # lr = learning rate\n",
    "    # step_num 반복 횟수\n",
    "    hist = []\n",
    "    \n",
    "    \n",
    "    for i in range(step_num):\n",
    "        hist.append(x.copy())\n",
    "        grad = numerical_gradient(f, x)\n",
    "        x -= lr * grad\n",
    "    return x, hist"
   ]
  },
  {
   "cell_type": "code",
   "execution_count": 292,
   "metadata": {},
   "outputs": [],
   "source": [
    "def function_3(x):\n",
    "    return x[0] ** 2 + x[1] ** 2"
   ]
  },
  {
   "cell_type": "code",
   "execution_count": 301,
   "metadata": {},
   "outputs": [
    {
     "data": {
      "text/plain": [
       "(array([-6.11110793e-10,  8.14814391e-10]),\n",
       " [array([-3.,  4.]),\n",
       "  array([-2.4,  3.2]),\n",
       "  array([-1.92,  2.56]),\n",
       "  array([-1.536,  2.048]),\n",
       "  array([-1.2288,  1.6384]),\n",
       "  array([-0.98304,  1.31072]),\n",
       "  array([-0.786432,  1.048576]),\n",
       "  array([-0.6291456,  0.8388608]),\n",
       "  array([-0.50331648,  0.67108864]),\n",
       "  array([-0.40265318,  0.53687091]),\n",
       "  array([-0.32212255,  0.42949673]),\n",
       "  array([-0.25769804,  0.34359738]),\n",
       "  array([-0.20615843,  0.27487791]),\n",
       "  array([-0.16492674,  0.21990233]),\n",
       "  array([-0.1319414 ,  0.17592186]),\n",
       "  array([-0.10555312,  0.14073749]),\n",
       "  array([-0.08444249,  0.11258999]),\n",
       "  array([-0.06755399,  0.09007199]),\n",
       "  array([-0.0540432 ,  0.07205759]),\n",
       "  array([-0.04323456,  0.05764608]),\n",
       "  array([-0.03458765,  0.04611686]),\n",
       "  array([-0.02767012,  0.03689349]),\n",
       "  array([-0.02213609,  0.02951479]),\n",
       "  array([-0.01770887,  0.02361183]),\n",
       "  array([-0.0141671 ,  0.01888947]),\n",
       "  array([-0.01133368,  0.01511157]),\n",
       "  array([-0.00906694,  0.01208926]),\n",
       "  array([-0.00725355,  0.00967141]),\n",
       "  array([-0.00580284,  0.00773713]),\n",
       "  array([-0.00464228,  0.0061897 ]),\n",
       "  array([-0.00371382,  0.00495176]),\n",
       "  array([-0.00297106,  0.00396141]),\n",
       "  array([-0.00237684,  0.00316913]),\n",
       "  array([-0.00190148,  0.0025353 ]),\n",
       "  array([-0.00152118,  0.00202824]),\n",
       "  array([-0.00121694,  0.00162259]),\n",
       "  array([-0.00097356,  0.00129807]),\n",
       "  array([-0.00077884,  0.00103846]),\n",
       "  array([-0.00062308,  0.00083077]),\n",
       "  array([-0.00049846,  0.00066461]),\n",
       "  array([-0.00039877,  0.00053169]),\n",
       "  array([-0.00031901,  0.00042535]),\n",
       "  array([-0.00025521,  0.00034028]),\n",
       "  array([-0.00020417,  0.00027223]),\n",
       "  array([-0.00016334,  0.00021778]),\n",
       "  array([-0.00013067,  0.00017422]),\n",
       "  array([-0.00010453,  0.00013938]),\n",
       "  array([-8.36277945e-05,  1.11503726e-04]),\n",
       "  array([-6.69022356e-05,  8.92029808e-05]),\n",
       "  array([-5.35217885e-05,  7.13623846e-05]),\n",
       "  array([-4.28174308e-05,  5.70899077e-05]),\n",
       "  array([-3.42539446e-05,  4.56719262e-05]),\n",
       "  array([-2.74031557e-05,  3.65375409e-05]),\n",
       "  array([-2.19225246e-05,  2.92300327e-05]),\n",
       "  array([-1.75380196e-05,  2.33840262e-05]),\n",
       "  array([-1.40304157e-05,  1.87072210e-05]),\n",
       "  array([-1.12243326e-05,  1.49657768e-05]),\n",
       "  array([-8.97946606e-06,  1.19726214e-05]),\n",
       "  array([-7.18357285e-06,  9.57809713e-06]),\n",
       "  array([-5.74685828e-06,  7.66247770e-06]),\n",
       "  array([-4.59748662e-06,  6.12998216e-06]),\n",
       "  array([-3.67798930e-06,  4.90398573e-06]),\n",
       "  array([-2.94239144e-06,  3.92318858e-06]),\n",
       "  array([-2.35391315e-06,  3.13855087e-06]),\n",
       "  array([-1.88313052e-06,  2.51084069e-06]),\n",
       "  array([-1.50650442e-06,  2.00867256e-06]),\n",
       "  array([-1.20520353e-06,  1.60693804e-06]),\n",
       "  array([-9.64162827e-07,  1.28555044e-06]),\n",
       "  array([-7.71330261e-07,  1.02844035e-06]),\n",
       "  array([-6.17064209e-07,  8.22752279e-07]),\n",
       "  array([-4.93651367e-07,  6.58201823e-07]),\n",
       "  array([-3.94921094e-07,  5.26561458e-07]),\n",
       "  array([-3.15936875e-07,  4.21249167e-07]),\n",
       "  array([-2.52749500e-07,  3.36999333e-07]),\n",
       "  array([-2.02199600e-07,  2.69599467e-07]),\n",
       "  array([-1.61759680e-07,  2.15679573e-07]),\n",
       "  array([-1.29407744e-07,  1.72543659e-07]),\n",
       "  array([-1.03526195e-07,  1.38034927e-07]),\n",
       "  array([-8.28209562e-08,  1.10427942e-07]),\n",
       "  array([-6.62567649e-08,  8.83423532e-08]),\n",
       "  array([-5.30054119e-08,  7.06738826e-08]),\n",
       "  array([-4.24043296e-08,  5.65391061e-08]),\n",
       "  array([-3.39234636e-08,  4.52312849e-08]),\n",
       "  array([-2.71387709e-08,  3.61850279e-08]),\n",
       "  array([-2.17110167e-08,  2.89480223e-08]),\n",
       "  array([-1.73688134e-08,  2.31584178e-08]),\n",
       "  array([-1.38950507e-08,  1.85267343e-08]),\n",
       "  array([-1.11160406e-08,  1.48213874e-08]),\n",
       "  array([-8.89283245e-09,  1.18571099e-08]),\n",
       "  array([-7.11426596e-09,  9.48568795e-09]),\n",
       "  array([-5.69141277e-09,  7.58855036e-09]),\n",
       "  array([-4.55313022e-09,  6.07084029e-09]),\n",
       "  array([-3.64250417e-09,  4.85667223e-09]),\n",
       "  array([-2.91400334e-09,  3.88533778e-09]),\n",
       "  array([-2.33120267e-09,  3.10827023e-09]),\n",
       "  array([-1.86496214e-09,  2.48661618e-09]),\n",
       "  array([-1.49196971e-09,  1.98929295e-09]),\n",
       "  array([-1.19357577e-09,  1.59143436e-09]),\n",
       "  array([-9.54860614e-10,  1.27314749e-09]),\n",
       "  array([-7.63888491e-10,  1.01851799e-09])])"
      ]
     },
     "execution_count": 301,
     "metadata": {},
     "output_type": "execute_result"
    }
   ],
   "source": [
    "x = np.array([-3.0, 4.0])\n",
    "gradient_descent(function_3, x, 0.1, 100)"
   ]
  },
  {
   "cell_type": "code",
   "execution_count": 297,
   "metadata": {},
   "outputs": [
    {
     "data": {
      "image/png": "[encoded data removed]",
      "text/plain": [
       "<Figure size 432x288 with 1 Axes>"
      ]
     },
     "metadata": {
      "needs_background": "light"
     },
     "output_type": "display_data"
    }
   ],
   "source": [
    "def gradient_descent(f, init_x, lr=0.01, step_num=100):\n",
    "    x = init_x\n",
    "    x_history = []\n",
    "\n",
    "    for i in range(step_num):\n",
    "        x_history.append( x.copy() )\n",
    "\n",
    "        grad = numerical_gradient(f, x)\n",
    "        x -= lr * grad\n",
    "\n",
    "    return x, np.array(x_history)\n",
    "\n",
    "\n",
    "def function_2(x):\n",
    "    return x[0]**2 + x[1]**2\n",
    "\n",
    "init_x = np.array([-3.0, 4.0])    \n",
    "\n",
    "lr = 0.1\n",
    "step_num = 20\n",
    "x, x_history = gradient_descent(function_2, init_x, lr=lr, step_num=step_num)\n",
    "\n",
    "plt.plot( [-5, 5], [0,0], '--b')\n",
    "plt.plot( [0,0], [-5, 5], '--b')\n",
    "plt.plot(x_history[:,0], x_history[:,1], 'o')\n",
    "\n",
    "plt.xlim(-3.5, 3.5)\n",
    "plt.ylim(-4.5, 4.5)\n",
    "plt.xlabel(\"X0\")\n",
    "plt.ylabel(\"X1\")\n",
    "plt.show()"
   ]
  },
  {
   "cell_type": "code",
   "execution_count": 314,
   "metadata": {},
   "outputs": [
    {
     "data": {
      "image/png": "[encoded data removed]",
      "text/plain": [
       "<Figure size 432x288 with 1 Axes>"
      ]
     },
     "metadata": {
      "needs_background": "light"
     },
     "output_type": "display_data"
    }
   ],
   "source": [
    "def gradient_descent(f, init_x, lr=0.01, step_num=100):\n",
    "    x = init_x\n",
    "    x_history = []\n",
    "\n",
    "    for i in range(step_num):\n",
    "        x_history.append( x.copy() )\n",
    "\n",
    "        grad = numerical_gradient(f, x)\n",
    "        x -= lr * grad\n",
    "\n",
    "    return x, np.array(x_history)\n",
    "\n",
    "\n",
    "def function_2(x):\n",
    "    return x[0]**2 + x[1]**2\n",
    "\n",
    "init_x = np.array([-3.0, 4.0])    \n",
    "\n",
    "lr = 0.9\n",
    "step_num = 20\n",
    "x, x_history = gradient_descent(function_2, init_x, lr=lr, step_num=step_num)\n",
    "\n",
    "plt.plot( [-5, 5], [0,0], '--b')\n",
    "plt.plot( [0,0], [-5, 5], '--b')\n",
    "plt.plot(x_history[:,0], x_history[:,1], 'o')\n",
    "\n",
    "plt.xlim(-3.5, 3.5)\n",
    "plt.ylim(-4.5, 4.5)\n",
    "plt.xlabel(\"X0\")\n",
    "plt.ylabel(\"X1\")\n",
    "plt.show()"
   ]
  },
  {
   "cell_type": "code",
   "execution_count": 315,
   "metadata": {},
   "outputs": [
    {
     "data": {
      "text/plain": [
       "array([[-3.        ,  4.        ],\n",
       "       [ 2.4       , -3.2       ],\n",
       "       [-1.92      ,  2.56      ],\n",
       "       [ 1.536     , -2.048     ],\n",
       "       [-1.2288    ,  1.6384    ],\n",
       "       [ 0.98304   , -1.31072   ],\n",
       "       [-0.786432  ,  1.048576  ],\n",
       "       [ 0.6291456 , -0.8388608 ],\n",
       "       [-0.50331648,  0.67108864],\n",
       "       [ 0.40265318, -0.53687091],\n",
       "       [-0.32212255,  0.42949673],\n",
       "       [ 0.25769804, -0.34359738],\n",
       "       [-0.20615843,  0.27487791],\n",
       "       [ 0.16492674, -0.21990233],\n",
       "       [-0.1319414 ,  0.17592186],\n",
       "       [ 0.10555312, -0.14073749],\n",
       "       [-0.08444249,  0.11258999],\n",
       "       [ 0.06755399, -0.09007199],\n",
       "       [-0.0540432 ,  0.07205759],\n",
       "       [ 0.04323456, -0.05764608]])"
      ]
     },
     "execution_count": 315,
     "metadata": {},
     "output_type": "execute_result"
    }
   ],
   "source": [
    "x_history"
   ]
  },
  {
   "cell_type": "code",
   "execution_count": 329,
   "metadata": {},
   "outputs": [
    {
     "data": {
      "image/png": "[encoded data removed]",
      "text/plain": [
       "<Figure size 432x288 with 1 Axes>"
      ]
     },
     "metadata": {
      "needs_background": "light"
     },
     "output_type": "display_data"
    },
    {
     "data": {
      "text/plain": [
       "array([[-3.00000000e+00,  4.00000000e+00],\n",
       "       [ 9.00000000e+00, -1.20000000e+01],\n",
       "       [-2.70000000e+01,  3.60000000e+01],\n",
       "       [ 8.10000000e+01, -1.08000000e+02],\n",
       "       [-2.43000000e+02,  3.24000000e+02],\n",
       "       [ 7.29000000e+02, -9.72000000e+02],\n",
       "       [-2.18700000e+03,  2.91600000e+03],\n",
       "       [ 6.56100000e+03, -8.74800004e+03],\n",
       "       [-1.96830002e+04,  2.62439998e+04],\n",
       "       [ 5.90489992e+04, -7.87320010e+04],\n",
       "       [-1.77147004e+05,  2.36196016e+05],\n",
       "       [ 5.31441100e+05, -7.08588072e+05],\n",
       "       [-1.59432184e+06,  2.12576251e+06],\n",
       "       [ 4.78297308e+06, -6.37726483e+06],\n",
       "       [-1.43489019e+07,  1.91316414e+07],\n",
       "       [ 4.30460981e+07, -5.73971086e+07],\n",
       "       [-1.29143902e+08,  1.72202891e+08],\n",
       "       [ 3.87416098e+08, -5.16517109e+08],\n",
       "       [-1.16266390e+09,  1.55068289e+09],\n",
       "       [ 3.48117610e+09, -4.64451711e+09]])"
      ]
     },
     "execution_count": 329,
     "metadata": {},
     "output_type": "execute_result"
    }
   ],
   "source": [
    "def gradient_descent(f, init_x, lr=0.01, step_num=100):\n",
    "    x = init_x\n",
    "    x_history = []\n",
    "    grades = []\n",
    "    for i in range(step_num):\n",
    "        x_history.append( x.copy() )\n",
    "        \n",
    "        grad = numerical_gradient(f, x)\n",
    "        grades.append(grad)\n",
    "        x -= lr * grad\n",
    "\n",
    "    return x, np.array(x_history), grades\n",
    "\n",
    "\n",
    "def function_2(x):\n",
    "    return x[0]**2 + x[1]**2\n",
    "\n",
    "init_x = np.array([-3.0, 4.0])    \n",
    "\n",
    "lr = 2\n",
    "step_num = 20\n",
    "x, x_history, z = gradient_descent(function_2, init_x, lr=lr, step_num=step_num)\n",
    "\n",
    "plt.plot( [-5, 5], [0,0], '--b')\n",
    "plt.plot( [0,0], [-5, 5], '--b')\n",
    "plt.plot(x_history[:,0], x_history[:,1], 'o')\n",
    "\n",
    "plt.xlabel(\"X0\")\n",
    "plt.ylabel(\"X1\")\n",
    "plt.show()\n",
    "\n",
    "x_history"
   ]
  },
  {
   "cell_type": "code",
   "execution_count": 330,
   "metadata": {},
   "outputs": [
    {
     "data": {
      "text/plain": [
       "[array([-6.,  8.]),\n",
       " array([ 18., -24.]),\n",
       " array([-54.,  72.]),\n",
       " array([ 162.00000002, -216.00000002]),\n",
       " array([-486.00000009,  647.99999993]),\n",
       " array([ 1457.9999994, -1943.9999992]),\n",
       " array([-4374.0000017 ,  5832.00002089]),\n",
       " array([ 13122.00009823, -17495.99993229]),\n",
       " array([-39365.99969864,  52488.00039291]),\n",
       " array([ 118098.0014801, -157464.0083313]),\n",
       " array([-354294.05212402,  472392.04406738]),\n",
       " array([ 1062881.46972656, -1417175.29296875]),\n",
       " array([-3188647.4609375,  4251513.671875 ]),\n",
       " array([  9565937.5  , -12754453.125]),\n",
       " array([-28697500.,  38264375.]),\n",
       " array([ 8.6095e+07, -1.1480e+08]),\n",
       " array([-2.5828e+08,  3.4436e+08]),\n",
       " array([ 7.7504e+08, -1.0336e+09]),\n",
       " array([-2.32192e+09,  3.09760e+09]),\n",
       " array([ 6.96320e+09, -9.29792e+09])]"
      ]
     },
     "execution_count": 330,
     "metadata": {},
     "output_type": "execute_result"
    }
   ],
   "source": [
    "z"
   ]
  },
  {
   "cell_type": "code",
   "execution_count": 323,
   "metadata": {},
   "outputs": [
    {
     "data": {
      "text/plain": [
       "[-3,\n",
       " 9,\n",
       " -27,\n",
       " 81,\n",
       " -243,\n",
       " 729,\n",
       " -2186,\n",
       " 6561,\n",
       " -19683,\n",
       " 59048,\n",
       " -177147,\n",
       " 531441,\n",
       " -1594321,\n",
       " 4782973,\n",
       " -14348901,\n",
       " 43046098,\n",
       " -129143901,\n",
       " 387416098,\n",
       " -1162663901,\n",
       " 3481176098]"
      ]
     },
     "execution_count": 323,
     "metadata": {},
     "output_type": "execute_result"
    }
   ],
   "source": [
    "[int(i[0]) for i in x_history]"
   ]
  },
  {
   "cell_type": "code",
   "execution_count": 316,
   "metadata": {},
   "outputs": [
    {
     "data": {
      "image/png": "[encoded data removed]",
      "text/plain": [
       "<Figure size 432x288 with 1 Axes>"
      ]
     },
     "metadata": {
      "needs_background": "light"
     },
     "output_type": "display_data"
    }
   ],
   "source": [
    "def gradient_descent(f, init_x, lr=0.01, step_num=100):\n",
    "    x = init_x\n",
    "    x_history = []\n",
    "\n",
    "    for i in range(step_num):\n",
    "        x_history.append( x.copy() )\n",
    "\n",
    "        grad = numerical_gradient(f, x)\n",
    "        x -= lr * grad\n",
    "\n",
    "    return x, np.array(x_history)\n",
    "\n",
    "\n",
    "def function_2(x):\n",
    "    return x[0]**2 + x[1]**2\n",
    "\n",
    "init_x = np.array([-3.0, 4.0])    \n",
    "\n",
    "lr = 0.001\n",
    "step_num = 20\n",
    "x, x_history = gradient_descent(function_2, init_x, lr=lr, step_num=step_num)\n",
    "\n",
    "plt.plot( [-5, 5], [0,0], '--b')\n",
    "plt.plot( [0,0], [-5, 5], '--b')\n",
    "plt.plot(x_history[:,0], x_history[:,1], 'o')\n",
    "\n",
    "plt.xlim(-3.5, 3.5)\n",
    "plt.ylim(-4.5, 4.5)\n",
    "plt.xlabel(\"X0\")\n",
    "plt.ylabel(\"X1\")\n",
    "plt.show()"
   ]
  },
  {
   "cell_type": "code",
   "execution_count": 335,
   "metadata": {},
   "outputs": [
    {
     "name": "stdout",
     "output_type": "stream",
     "text": [
      "[[ 0.01620977  0.52315194 -0.5393617 ]\n",
      " [ 0.02431465  0.78472791 -0.80904256]]\n"
     ]
    }
   ],
   "source": [
    "## 기울기 구해보기\n",
    "import sys, os\n",
    "sys.path.append(os.pardir)\n",
    "import numpy as np\n",
    "from common.functions import softmax, cross_entropy_error\n",
    "from common.gradient import numerical_gradient\n",
    "\n",
    "class simpleNet:\n",
    "    def __init__(self):\n",
    "        self.W = np.random.randn(2, 3) # 들어오는 W는 정규분포로 초기화\n",
    "        \n",
    "    def predict(self, x):\n",
    "        return np.dot(x, self.W)\n",
    "    \n",
    "    def loss(self, x, t):\n",
    "        z = self.predict(x)\n",
    "        y = softmax(z)\n",
    "        loss = cross_entropy_error(y, t)\n",
    "        \n",
    "        return loss\n",
    "    \n",
    "x = np.array([0.6, 0.9])\n",
    "t = np.array([0, 0, 1])\n",
    "\n",
    "net = simpleNet()\n",
    "\n",
    "f = lambda w: net.loss(x, t)\n",
    "dW = numerical_gradient(f, net.W)\n",
    "\n",
    "print(dW)"
   ]
  },
  {
   "cell_type": "code",
   "execution_count": 341,
   "metadata": {},
   "outputs": [
    {
     "data": {
      "text/plain": [
       "array([[-2.47777293, -0.05137483, -0.8851103 ],\n",
       "       [-2.05961574,  0.18307218, -1.65549871]])"
      ]
     },
     "execution_count": 341,
     "metadata": {},
     "output_type": "execute_result"
    }
   ],
   "source": [
    "net.W"
   ]
  },
  {
   "cell_type": "code",
   "execution_count": 344,
   "metadata": {},
   "outputs": [
    {
     "data": {
      "text/plain": [
       "array([-3.34031793,  0.13394006, -2.02101501])"
      ]
     },
     "execution_count": 344,
     "metadata": {},
     "output_type": "execute_result"
    }
   ],
   "source": [
    "net.predict(x) # np.dot(x, net.W)"
   ]
  },
  {
   "cell_type": "code",
   "execution_count": 345,
   "metadata": {},
   "outputs": [
    {
     "data": {
      "text/plain": [
       "array([-3.34031793,  0.13394006, -2.02101501])"
      ]
     },
     "execution_count": 345,
     "metadata": {},
     "output_type": "execute_result"
    }
   ],
   "source": [
    "np.dot(x, net.W)"
   ]
  }
 ],
 "metadata": {
  "kernelspec": {
   "display_name": "Python 3",
   "language": "python",
   "name": "python3"
  },
  "language_info": {
   "codemirror_mode": {
    "name": "ipython",
    "version": 3
   },
   "file_extension": ".py",
   "mimetype": "text/x-python",
   "name": "python",
   "nbconvert_exporter": "python",
   "pygments_lexer": "ipython3",
   "version": "3.7.0"
  }
 },
 "nbformat": 4,
 "nbformat_minor": 2
}
